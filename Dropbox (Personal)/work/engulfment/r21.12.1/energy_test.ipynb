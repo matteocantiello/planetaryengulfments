{
 "cells": [
  {
   "cell_type": "code",
   "execution_count": 760,
   "id": "b0d2dc3e-ea64-46f5-af41-be3ed29f15c6",
   "metadata": {},
   "outputs": [
    {
     "name": "stdout",
     "output_type": "stream",
     "text": [
      "Constants defined...\n"
     ]
    }
   ],
   "source": [
    "%matplotlib inline\n",
    "from Constants import Constants\n",
    "import mesa_reader as mr\n",
    "import pandas\n",
    "import numpy as np\n",
    "import matplotlib.pyplot as plt\n",
    "c=Constants()\n",
    "\n",
    "###### Some plt choices ###########\n",
    "plt.rcParams['figure.figsize'] = (8,6)\n",
    "plt.rc_fonts = {'figure.figsize': (15, 9.3)}\n",
    "plt.rcParams['font.family'] = ['Times New Roman']\n",
    "plt.rcParams['axes.labelsize'] = 20\n",
    "plt.rcParams['xtick.labelsize'] = 20\n",
    "plt.rcParams['ytick.labelsize'] = 20\n",
    "plt.rcParams['legend.fontsize'] = 18\n",
    "plt.rcParams['legend.handlelength'] = 2\n",
    "plt.rcParams[\"legend.framealpha\"] = 1.0\n",
    "plt.rcParams['axes.titlepad'] = 20 \n",
    "plt.rc('legend', borderpad=0.2, markerscale=15., fancybox=False)\n",
    "##########################################\n",
    "#plt.rc('text', usetex=True) # For high-quality LaTeX (but very slow)\n",
    "\n",
    "# Define some useful functions\n",
    "def find_zams(logl,loglh,model):\n",
    "    zams=0\n",
    "    while (loglh[zams] < 0.99*logl[zams]):\n",
    "     zams=zams+1\n",
    "    return zams;\n",
    "\n",
    "def find_hezams(logl,loglhe,model):\n",
    "    zams=0\n",
    "    while (loglhe[zams] < 0.90*logl[zams]):\n",
    "     zams=zams+1\n",
    "    return zams;\n",
    "\n",
    "def find_teff(teff,model,val):\n",
    "    ii=0\n",
    "    while (teff[ii] > val) and (ii+1 < len(model)):\n",
    "     ii=ii+1\n",
    "    return ii;\n",
    "\n",
    "def find_h1(h1,model,val):\n",
    "    ii=0\n",
    "    while (h1[ii] > val) and (ii+1 < len(model)):\n",
    "     ii=ii+1\n",
    "    return ii;\n",
    "def const_radius_on_hrd(T,R):\n",
    "    return 4*np.pi*R**2*c.sigmaSB*T**4"
   ]
  },
  {
   "cell_type": "code",
   "execution_count": 761,
   "id": "d4b309c9-2bdd-4a72-8bce-ddd9dc0b0a2b",
   "metadata": {},
   "outputs": [],
   "source": [
    "# Define some colors\n",
    "BLACK      = (0.00,0.00,0.00)\n",
    "ORANGE     = (0.90,0.60,0.00)\n",
    "SKY_BLUE   = (0.35,0.70,0.90)\n",
    "BLUE_GREEN = (0.00,0.60,0.50)\n",
    "YELLOW     = (0.95,0.90,0.25)\n",
    "BLUE       = (0.00,0.45,0.70)\n",
    "VERMILLION = (0.80,0.40,0.00)\n",
    "RED_PURPLE = (0.80,0.60,0.70)\n",
    "COLORS=[ORANGE,BLUE_GREEN,SKY_BLUE,RED_PURPLE,VERMILLION,YELLOW,BLUE,BLACK]\n",
    "\n",
    "# Set some global plot options\n",
    "#plt.rcParams['figure.figsize'] = (6,5)\n",
    "plt.rcParams['legend.frameon'] = False\n",
    "plt.rcParams['legend.fontsize'] = 14\n",
    "plt.rcParams['legend.borderpad'] = 0.5\n",
    "plt.rcParams['legend.labelspacing'] = 0.5\n",
    "plt.rcParams['legend.handletextpad'] = 0.5\n",
    "plt.rcParams['mathtext.fontset'] = 'stix'\n",
    "plt.rcParams['font.family'] = 'STIXGeneral'\n",
    "plt.rcParams['font.size'] = 16\n",
    "\n",
    "Rsun= 6.9598e10\n",
    "secyer=3600*24*365\n",
    "Lsun = 3.839e33\n",
    "secyer = 3600*24*365\n",
    "Msun = 1.989e33"
   ]
  },
  {
   "cell_type": "code",
   "execution_count": 762,
   "id": "521538db-6347-4795-95d6-b9c94425deff",
   "metadata": {},
   "outputs": [],
   "source": [
    "#planets plotted\n",
    "K2137b=0.00482\n",
    "Trappist1b=0.01151\n",
    "HATS67b=0.03\n",
    "K239b=0.057\n",
    "\n",
    "def const_radius_on_hrd(T,R):\n",
    "    return 4*np.pi*R**2*c.sigmaSB*T**4\n",
    "\n",
    "def ConstRadius():\n",
    "    # Add Constant radius lines:\n",
    "    teff=np.arange(1000,30000,1)\n",
    "    y1= np.log10(const_radius_on_hrd(teff,0.1*c.au)/c.lsun)\n",
    "    y2= np.log10(const_radius_on_hrd(teff,0.01*c.au)/c.lsun)\n",
    "    plt.plot(np.log10(teff),y1,linestyle='--',linewidth=1,color='grey', alpha=0.4)\n",
    "    plt.plot(np.log10(teff),y2,linestyle='--',linewidth=1,color='grey', alpha=0.4)\n",
    "    plt.fill_between(np.log10(teff), y1 , y2 ,facecolor='grey', alpha=0.05)\n",
    "    #plt.plot(np.log10(teff),np.log10(const_radius_on_hrd(teff,K2137b*c.au)/c.lsun),linestyle='-',linewidth=2, alpha=0.3,\\\n",
    "    #         label= ' K2137 b, 0.004 AU')\n",
    "    plt.plot(np.log10(teff),np.log10(const_radius_on_hrd(teff,Trappist1b*c.au)/c.lsun),linestyle='-',linewidth=3, alpha=0.5,\\\n",
    "             label= ' Trappist-1 b, 0.01 AU', c = RED_PURPLE)\n",
    "    plt.plot(np.log10(teff),np.log10(const_radius_on_hrd(teff,HATS67b*c.au)/c.lsun),linestyle='-',linewidth=3, alpha=0.5,\\\n",
    "             label= ' HATS-67 b, 0.03 AU', c = BLUE_GREEN)\n",
    "    plt.plot(np.log10(teff),np.log10(const_radius_on_hrd(teff,K239b*c.au)/c.lsun),linestyle='-',linewidth=3, alpha=0.5,\\\n",
    "             label= ' K239 b, 0.06 AU', c = SKY_BLUE)\n",
    "    legend = plt.legend(loc='lower left', markerscale=15, fancybox=True, prop={'size': 17}) #borderpad=0.2\n",
    "    #change x in 0.01 increments\n",
    "    #change y in 0.02 increments    \n",
    "    "
   ]
  },
  {
   "cell_type": "code",
   "execution_count": 763,
   "id": "81ef9739-0077-43e5-ab74-dd856cb0ce45",
   "metadata": {},
   "outputs": [],
   "source": [
    "def orbital_energy(m1,m2,a):\n",
    "    cgrav = 6.6743e-8\n",
    "    return -cgrav*m1*m2/(2.0*a)\n",
    "    "
   ]
  },
  {
   "cell_type": "code",
   "execution_count": 764,
   "id": "f3eaf8b8-e5c6-46c6-97ca-c47c9e0adbc1",
   "metadata": {},
   "outputs": [],
   "source": [
    "DATA='./test_highmass/'"
   ]
  },
  {
   "cell_type": "code",
   "execution_count": 765,
   "id": "327d814e-9732-465a-bff1-735f6c99a15f",
   "metadata": {},
   "outputs": [
    {
     "name": "stdout",
     "output_type": "stream",
     "text": [
      "From read_log_data  5\n",
      "From read_log_data header: ['r21.12.1', 'gfortran', '10.2.0', 'x86_64-macos-21.11.1', 'CRMATH', '20230109', 50.0, 1000.0, 1.9884098706980504e+33, 69570000000.0, 3.828e+33]\n"
     ]
    },
    {
     "data": {
      "text/plain": [
       "[<matplotlib.lines.Line2D at 0x7f9572a8f640>]"
      ]
     },
     "execution_count": 765,
     "metadata": {},
     "output_type": "execute_result"
    },
    {
     "data": {
      "image/png": "[encoded data removed]",
      "text/plain": [
       "<Figure size 576x432 with 1 Axes>"
      ]
     },
     "metadata": {
      "needs_background": "light"
     },
     "output_type": "display_data"
    }
   ],
   "source": [
    "\n",
    "h=mr.MesaData(DATA+'/LOGS/history.data')\n",
    "\n",
    "\n",
    "eng_f=h.Engulfed_fraction\n",
    "dest_f=10**h.Log_Destruction_factor\n",
    "planet_location=h.Orbital_separation\n",
    "star_radius=10**h.log_R\n",
    "model= h.model_number\n",
    "age=h.star_age\n",
    "logdt=h.log_dt\n",
    "logl=h.log_L\n",
    "logt=h.log_Teff\n",
    "enclosed_mass = h.Enclosed_mass\n",
    "\n",
    "tidal = np.where(eng_f == 0)\n",
    "grazing = np.where((0 < eng_f) & (eng_f < 0.999))\n",
    "plungein= np.where((eng_f == 1) & (dest_f < 1))\n",
    "relaxation = np.where((eng_f == 1) & (dest_f > 1))\n",
    "\n",
    "\n",
    "sel = np.concatenate((grazing,plungein), axis=None)\n",
    "\n",
    "#sel = np.where(np.in1d(grazing,plungein))\n",
    "plt.plot(model,eng_f)"
   ]
  },
  {
   "cell_type": "code",
   "execution_count": 766,
   "id": "ecb22d30-2e56-4a19-8653-2964692ae2f8",
   "metadata": {},
   "outputs": [
    {
     "name": "stdout",
     "output_type": "stream",
     "text": [
      "1.2759310330479626e+45\n"
     ]
    },
    {
     "data": {
      "image/png": "[encoded data removed]",
      "text/plain": [
       "<Figure size 576x432 with 1 Axes>"
      ]
     },
     "metadata": {
      "needs_background": "light"
     },
     "output_type": "display_data"
    }
   ],
   "source": [
    "\n",
    "mdot=h.log_abs_mdot\n",
    "infall=10**h.Log_Infall_distance\n",
    "injected_e=(h.Log_Injected_energy)\n",
    "v_orb=h.Orbital_velocity\n",
    "dest_f=10**h.Log_Destruction_factor\n",
    "eng_f=h.Engulfed_fraction\n",
    "mass_heated=h.Total_mass_affected\n",
    "planet_location=h.Orbital_separation\n",
    "logdt=h.log_dt\n",
    "star_radius=10**h.log_R\n",
    "t0=0\n",
    "dl = 10**injected_e/((10**logdt)*secyer)\n",
    "\n",
    "#injected_e=10**(h.Log_Injected_energy)\n",
    "\n",
    "#plt.plot(np.log10(age),planet_location,linewidth=4,alpha=0.7,label=' Orbital Separation')\n",
    "#plt.plot(np.log10(age),star_radius,linewidth=4,alpha=0.7,label=' Stellar Radius')\n",
    "plt.plot(age[sel],logl[sel],linewidth=4,alpha=0.7,label=' logl')\n",
    "\n",
    "#plt.plot(age[sel],np.log10(dl[sel]/lsun),linewidth=4,alpha=0.7,label=' Dl')\n",
    "#plt.plot(age,np.log10(v_orb))\n",
    "#plt.axis([655.4*365,656.1*365, 1,2.1])\n",
    "#plt.axis([235753.5,235826.5, 1,2.1])\n",
    "plt.legend(handlelength=2,frameon=False,loc=\"center left\",fontsize=16)\n",
    "#plt.axis([.542696e6,0.542698e6, -1 , 8])\n",
    "plt.xlabel(r'Time (yrs)')\n",
    "plt.ylabel(r'$\\log\\, L / {\\rm L}_\\odot$')\n",
    "#plt.axis([age,dl, 0,7])\n",
    "\n",
    "print(sum(10**injected_e))\n"
   ]
  },
  {
   "cell_type": "code",
   "execution_count": 767,
   "id": "d37b4d82-d6e6-4b93-a408-00bd6bd84a7b",
   "metadata": {},
   "outputs": [
    {
     "name": "stdout",
     "output_type": "stream",
     "text": [
      "4.171699885278458 3.3313703447293266 0.8403295405491313\n",
      "0.9753499836260642 -4.547110174288525e+45 -5.5537471085844485e+45\n"
     ]
    }
   ],
   "source": [
    "m1 =1*Msun\n",
    "m2 =0.01*Msun\n",
    "m_r = h.Enclosed_mass\n",
    "a_max = np.max(planet_location[sel])\n",
    "a_min = np.min(planet_location[sel])\n",
    "\n",
    "print(a_max, a_min, a_max-a_min)\n",
    "E_amax = orbital_energy(m1,m2,a_max*Rsun)\n",
    "m1_a = m_r[sel[-1]]\n",
    "E_amin = orbital_energy(m_r[sel][-1],m2,a_min*Rsun)\n",
    "print(m_r[sel][-1]/Msun,E_amax,E_amin)\n",
    "#print(help(m_r[sel][-1]))"
   ]
  },
  {
   "cell_type": "code",
   "execution_count": 768,
   "id": "3718197f-0504-4f79-9008-4b6755f02aa0",
   "metadata": {},
   "outputs": [
    {
     "name": "stdout",
     "output_type": "stream",
     "text": [
      "-5.5537471085844485e+45 -4.547110174288525e+45 1.0066369342959236e+45\n",
      "1.1377160725591092e+45\n",
      "1.1302149104581254\n"
     ]
    }
   ],
   "source": [
    "DeltaE = np.abs(E_amin-E_amax)\n",
    "print(E_amin,E_amax,DeltaE)\n",
    "print(np.sum(10**injected_e[sel]))\n",
    "#print(np.sum(10**injected_e))\n",
    "#print(max(h.Total_energy_injected[sel]))\n",
    "print(np.sum(10**injected_e[sel])/DeltaE)"
   ]
  },
  {
   "cell_type": "code",
   "execution_count": 769,
   "id": "15857ee5-9f65-4fe0-96ab-b2de273342a8",
   "metadata": {},
   "outputs": [
    {
     "name": "stdout",
     "output_type": "stream",
     "text": [
      "0.838140485500174\n",
      "0.9973950040509978\n"
     ]
    }
   ],
   "source": [
    "dr=10**h.Log_Infall_distance\n",
    "dr_tides =10**h.Log_Infall_distance_tides\n",
    "delta_r = np.sum(dr[sel])/Rsun\n",
    "delta_r_tides = np.sum(dr_tides[sel])/Rsun\n",
    "print(delta_r+delta_r_tides)\n",
    "print((delta_r+delta_r_tides)/(a_max-a_min))"
   ]
  },
  {
   "cell_type": "code",
   "execution_count": 770,
   "id": "9d913353-7e56-48bd-b6f2-c3d56af03e17",
   "metadata": {},
   "outputs": [
    {
     "name": "stdout",
     "output_type": "stream",
     "text": [
      "1.00641148967432e+45\n"
     ]
    },
    {
     "data": {
      "image/png": "[encoded data removed]",
      "text/plain": [
       "<Figure size 576x432 with 1 Axes>"
      ]
     },
     "metadata": {
      "needs_background": "light"
     },
     "output_type": "display_data"
    }
   ],
   "source": [
    "E_orb = h.E_orbit\n",
    "mr    = h.Enclosed_mass\n",
    "SumE  = h.Total_energy_injected\n",
    "de    = 10**h.Log_Injected_energy\n",
    "a     = h.Orbital_separation\n",
    "\n",
    "#plt.plot(a,np.log10(-E_orb))\n",
    "#plt.plot(a,np.log10(c.G*m2*mr/(2*a*Rsun)))\n",
    "e1 = np.log10(-E_orb)\n",
    "e2 = np.log10(c.G*m2*mr/(2*a*Rsun))\n",
    "plt.plot(h.model_number[sel],np.log10(e1[sel]/e2[sel]))\n",
    "print(E_orb[sel][0]-E_orb[sel][-1])"
   ]
  },
  {
   "cell_type": "code",
   "execution_count": 771,
   "id": "f079b909-c3cd-45ff-a7f7-038136c283d4",
   "metadata": {},
   "outputs": [
    {
     "data": {
      "text/plain": [
       "[<matplotlib.lines.Line2D at 0x7f9572c621f0>]"
      ]
     },
     "execution_count": 771,
     "metadata": {},
     "output_type": "execute_result"
    },
    {
     "data": {
      "image/png": "[encoded data removed]",
      "text/plain": [
       "<Figure size 576x432 with 1 Axes>"
      ]
     },
     "metadata": {
      "needs_background": "light"
     },
     "output_type": "display_data"
    }
   ],
   "source": [
    "plt.plot(h.model_number[sel],np.log10(SumE[sel]))"
   ]
  },
  {
   "cell_type": "code",
   "execution_count": 759,
   "id": "7be71c28-6ba6-4525-9384-6704abc01388",
   "metadata": {},
   "outputs": [
    {
     "name": "stdout",
     "output_type": "stream",
     "text": [
      "7.82294288941064e+44\n",
      "304.26329758390784\n",
      "2.9758213099731603e+37\n"
     ]
    },
    {
     "data": {
      "image/png": "[encoded data removed]",
      "text/plain": [
       "<Figure size 576x432 with 1 Axes>"
      ]
     },
     "metadata": {
      "needs_background": "light"
     },
     "output_type": "display_data"
    }
   ],
   "source": [
    "plt.plot(age,injected_e)\n",
    "#plt.plot(age,star_radius)\n",
    "#plt.axis([655.4*365,656.1*365, 1,2.1])\n",
    "#plt.axis([235753.5,235826.5, 1,2.1])\n",
    "plt.axis([age[sel][-1]-1,age[sel][-1], 37,45])\n",
    "plt.xlabel(r'Time (days)')\n",
    "plt.ylabel(r'$\\log  $ dE [erg]')\n",
    "dt=10**logdt\n",
    "print(sum(10**injected_e[sel]))\n",
    "print(age[sel][-1]-age[sel][0]) \n",
    "E = sum(10**injected_e[sel])\n",
    "t = (age[sel][-1]-age[sel][0])*24*3600\n",
    "\n",
    "# Average luminosity: \n",
    "print(E/t)\n",
    "\n"
   ]
  },
  {
   "cell_type": "code",
   "execution_count": 706,
   "id": "0df03b74-47d4-46a8-9705-f5a429547929",
   "metadata": {},
   "outputs": [
    {
     "data": {
      "text/plain": [
       "[<matplotlib.lines.Line2D at 0x7f95615a1310>]"
      ]
     },
     "execution_count": 706,
     "metadata": {},
     "output_type": "execute_result"
    },
    {
     "data": {
      "image/png": "[encoded data removed]",
      "text/plain": [
       "<Figure size 576x432 with 1 Axes>"
      ]
     },
     "metadata": {
      "needs_background": "light"
     },
     "output_type": "display_data"
    }
   ],
   "source": [
    "\n",
    "# Injected Luminosity / Stellar Luminosity\n",
    "\n",
    "dl = 10**injected_e/((10**logdt)*secyer)\n",
    "plt.plot(age[sel] ,np.log10(dl[sel]))\n",
    "#plt.axis([age[sel][-1]-1,age[sel][-1], 30,45])\n",
    "#print(dl[sel])"
   ]
  },
  {
   "cell_type": "code",
   "execution_count": 707,
   "id": "d1c99468-10be-4095-bcac-2da975f51f25",
   "metadata": {},
   "outputs": [
    {
     "data": {
      "text/plain": [
       "[<matplotlib.lines.Line2D at 0x7f95723e8e20>]"
      ]
     },
     "execution_count": 707,
     "metadata": {},
     "output_type": "execute_result"
    },
    {
     "data": {
      "image/png": "[encoded data removed]",
      "text/plain": [
       "<Figure size 576x432 with 1 Axes>"
      ]
     },
     "metadata": {
      "needs_background": "light"
     },
     "output_type": "display_data"
    }
   ],
   "source": [
    "# Injected Luminosity / Stellar Luminosity\n",
    "dl = 10**injected_e/((10**logdt)*secyer)\n",
    "lstar=(10**h.log_L)*Lsun \n",
    "plt.plot(h.model_number[sel] ,np.log10(dl[sel]/lstar[sel]))"
   ]
  },
  {
   "cell_type": "code",
   "execution_count": 692,
   "id": "c8600001-7aed-4cd2-be51-fd1a7adc48ca",
   "metadata": {},
   "outputs": [
    {
     "data": {
      "text/plain": [
       "[<matplotlib.lines.Line2D at 0x7f9511374ca0>]"
      ]
     },
     "execution_count": 692,
     "metadata": {},
     "output_type": "execute_result"
    },
    {
     "data": {
      "image/png": "[encoded data removed]",
      "text/plain": [
       "<Figure size 576x432 with 1 Axes>"
      ]
     },
     "metadata": {
      "needs_background": "light"
     },
     "output_type": "display_data"
    }
   ],
   "source": [
    "# Injected Luminosity / Stellar Luminosity as function of injection depth\n",
    "dl = 10**injected_e/((10**logdt)*secyer)\n",
    "lstar=(10**h.log_L)*Lsun \n",
    "plt.plot(h.Orbital_separation[sel] ,np.log10(dl[sel]/lstar[sel]))\n",
    "plt.plot(h.Orbital_separation[sel] ,h.Engulfed_fraction[sel]*10)"
   ]
  },
  {
   "cell_type": "code",
   "execution_count": null,
   "id": "1108df34-a099-4d7b-b881-e147d3461858",
   "metadata": {},
   "outputs": [],
   "source": []
  },
  {
   "cell_type": "code",
   "execution_count": 669,
   "id": "75345738-9e46-4760-bffb-d47ea342af5c",
   "metadata": {},
   "outputs": [
    {
     "name": "stdout",
     "output_type": "stream",
     "text": [
      "0.00036601700483221563\n"
     ]
    }
   ],
   "source": [
    "print(max(dest_f))"
   ]
  },
  {
   "cell_type": "code",
   "execution_count": 670,
   "id": "8f93965d-eaa1-4608-8df7-033be7223e80",
   "metadata": {},
   "outputs": [
    {
     "data": {
      "text/plain": [
       "[<matplotlib.lines.Line2D at 0x7f9521dd29a0>]"
      ]
     },
     "execution_count": 670,
     "metadata": {},
     "output_type": "execute_result"
    },
    {
     "data": {
      "image/png": "[encoded data removed]",
      "text/plain": [
       "<Figure size 576x432 with 1 Axes>"
      ]
     },
     "metadata": {
      "needs_background": "light"
     },
     "output_type": "display_data"
    }
   ],
   "source": [
    "plt.plot(h.model_number ,h.num_retries)"
   ]
  },
  {
   "cell_type": "code",
   "execution_count": 671,
   "id": "0aab1905-067f-4861-9556-17245d17ce56",
   "metadata": {},
   "outputs": [
    {
     "data": {
      "text/plain": [
       "('model_number',\n",
       " 'num_zones',\n",
       " 'star_age',\n",
       " 'star_age_sec',\n",
       " 'star_age_min',\n",
       " 'star_age_hr',\n",
       " 'star_age_day',\n",
       " 'log_dt',\n",
       " 'star_mass',\n",
       " 'log_xmstar',\n",
       " 'log_abs_mdot',\n",
       " 'mass_conv_core',\n",
       " 'conv_mx1_top',\n",
       " 'conv_mx1_bot',\n",
       " 'conv_mx2_top',\n",
       " 'conv_mx2_bot',\n",
       " 'mx1_top',\n",
       " 'mx1_bot',\n",
       " 'mx2_top',\n",
       " 'mx2_bot',\n",
       " 'mix_type_1',\n",
       " 'mix_qtop_1',\n",
       " 'mix_type_2',\n",
       " 'mix_qtop_2',\n",
       " 'mix_type_3',\n",
       " 'mix_qtop_3',\n",
       " 'mix_type_4',\n",
       " 'mix_qtop_4',\n",
       " 'mix_type_5',\n",
       " 'mix_qtop_5',\n",
       " 'mix_type_6',\n",
       " 'mix_qtop_6',\n",
       " 'mix_type_7',\n",
       " 'mix_qtop_7',\n",
       " 'mix_type_8',\n",
       " 'mix_qtop_8',\n",
       " 'mix_type_9',\n",
       " 'mix_qtop_9',\n",
       " 'mix_type_10',\n",
       " 'mix_qtop_10',\n",
       " 'mix_relr_type_1',\n",
       " 'mix_relr_top_1',\n",
       " 'mix_relr_type_2',\n",
       " 'mix_relr_top_2',\n",
       " 'mix_relr_type_3',\n",
       " 'mix_relr_top_3',\n",
       " 'mix_relr_type_4',\n",
       " 'mix_relr_top_4',\n",
       " 'mix_relr_type_5',\n",
       " 'mix_relr_top_5',\n",
       " 'mix_relr_type_6',\n",
       " 'mix_relr_top_6',\n",
       " 'mix_relr_type_7',\n",
       " 'mix_relr_top_7',\n",
       " 'mix_relr_type_8',\n",
       " 'mix_relr_top_8',\n",
       " 'mix_relr_type_9',\n",
       " 'mix_relr_top_9',\n",
       " 'mix_relr_type_10',\n",
       " 'mix_relr_top_10',\n",
       " 'log_LH',\n",
       " 'log_LHe',\n",
       " 'log_LZ',\n",
       " 'log_Lnuc',\n",
       " 'pp',\n",
       " 'cno',\n",
       " 'epsnuc_M_1',\n",
       " 'epsnuc_M_2',\n",
       " 'epsnuc_M_3',\n",
       " 'epsnuc_M_4',\n",
       " 'epsnuc_M_5',\n",
       " 'epsnuc_M_6',\n",
       " 'epsnuc_M_7',\n",
       " 'epsnuc_M_8',\n",
       " 'burn_type_1',\n",
       " 'burn_qtop_1',\n",
       " 'burn_type_2',\n",
       " 'burn_qtop_2',\n",
       " 'burn_type_3',\n",
       " 'burn_qtop_3',\n",
       " 'burn_type_4',\n",
       " 'burn_qtop_4',\n",
       " 'burn_type_5',\n",
       " 'burn_qtop_5',\n",
       " 'burn_type_6',\n",
       " 'burn_qtop_6',\n",
       " 'burn_type_7',\n",
       " 'burn_qtop_7',\n",
       " 'burn_type_8',\n",
       " 'burn_qtop_8',\n",
       " 'burn_type_9',\n",
       " 'burn_qtop_9',\n",
       " 'burn_type_10',\n",
       " 'burn_qtop_10',\n",
       " 'he_core_mass',\n",
       " 'log_Teff',\n",
       " 'log_L',\n",
       " 'radius',\n",
       " 'log_R',\n",
       " 'log_g',\n",
       " 'v_div_csound_surf',\n",
       " 'surf_avg_Lrad_div_Ledd',\n",
       " 'log_center_T',\n",
       " 'log_center_Rho',\n",
       " 'log_cntr_P',\n",
       " 'log_cntr_Rho',\n",
       " 'log_cntr_T',\n",
       " 'center_mu',\n",
       " 'center_ye',\n",
       " 'center_abar',\n",
       " 'center_h1',\n",
       " 'center_he4',\n",
       " 'center_c12',\n",
       " 'center_o16',\n",
       " 'surface_c12',\n",
       " 'surface_o16',\n",
       " 'total_mass_h1',\n",
       " 'total_mass_he4',\n",
       " 'num_retries',\n",
       " 'num_iters',\n",
       " 'Orbital_separation',\n",
       " 'Orbital_velocity',\n",
       " 'Log_Infall_distance',\n",
       " 'Log_Injected_energy',\n",
       " 'Log_Destruction_factor',\n",
       " 'Engulfed_fraction',\n",
       " 'Total_mass_affected',\n",
       " 'Planet_mass',\n",
       " 'Planet_radius',\n",
       " 'Bondi_radius',\n",
       " 'Sound_speed',\n",
       " 'Tidal_timescale',\n",
       " 'Log_Infall_distance_tides',\n",
       " 'Infall_velocity',\n",
       " 'Enclosed_mass',\n",
       " 'Local_density',\n",
       " 'Total_energy_injected',\n",
       " 'E_orbit')"
      ]
     },
     "execution_count": 671,
     "metadata": {},
     "output_type": "execute_result"
    }
   ],
   "source": [
    "h.bulk_names"
   ]
  },
  {
   "cell_type": "code",
   "execution_count": null,
   "id": "f36fe31d-f50d-4da2-96d6-35644db0e2bd",
   "metadata": {},
   "outputs": [],
   "source": []
  },
  {
   "cell_type": "code",
   "execution_count": null,
   "id": "3a84aa8a-78bf-4985-ab2e-40edf9ca4e37",
   "metadata": {},
   "outputs": [],
   "source": []
  },
  {
   "cell_type": "code",
   "execution_count": null,
   "id": "7fda8d52-8560-4413-8cf9-dc5d3ff13b80",
   "metadata": {},
   "outputs": [],
   "source": []
  },
  {
   "cell_type": "code",
   "execution_count": null,
   "id": "756da50d-d98e-48ed-9663-214b383bcaef",
   "metadata": {},
   "outputs": [],
   "source": []
  },
  {
   "cell_type": "code",
   "execution_count": null,
   "id": "ffb5c4ef-a2ed-4cd9-965d-befde953363a",
   "metadata": {},
   "outputs": [],
   "source": []
  },
  {
   "cell_type": "code",
   "execution_count": null,
   "id": "6f0bd366-6989-47b5-acc2-7321f5234ebb",
   "metadata": {},
   "outputs": [],
   "source": []
  },
  {
   "cell_type": "code",
   "execution_count": null,
   "id": "d12648ca-cf7d-49ce-b51f-17e5a02b261d",
   "metadata": {},
   "outputs": [],
   "source": []
  }
 ],
 "metadata": {
  "kernelspec": {
   "display_name": "Python 3",
   "language": "python",
   "name": "python3"
  },
  "language_info": {
   "codemirror_mode": {
    "name": "ipython",
    "version": 3
   },
   "file_extension": ".py",
   "mimetype": "text/x-python",
   "name": "python",
   "nbconvert_exporter": "python",
   "pygments_lexer": "ipython3",
   "version": "3.8.8"
  }
 },
 "nbformat": 4,
 "nbformat_minor": 5
}
